{
 "cells": [
  {
   "cell_type": "markdown",
   "id": "f274aef4",
   "metadata": {},
   "source": [
    "# Importing the libraries"
   ]
  },
  {
   "cell_type": "code",
   "execution_count": 2,
   "id": "e50d1c6d",
   "metadata": {},
   "outputs": [],
   "source": [
    "import numpy as np\n",
    "import pandas as pd\n",
    "import matplotlib.pyplot as plt"
   ]
  },
  {
   "cell_type": "markdown",
   "id": "963d03dd",
   "metadata": {},
   "source": [
    "# Importing the dataset"
   ]
  },
  {
   "cell_type": "code",
   "execution_count": 28,
   "id": "483c3770",
   "metadata": {},
   "outputs": [
    {
     "name": "stdout",
     "output_type": "stream",
     "text": [
      "['Kathmandu, Nepal' 1.99 11.92 5.56 2.38 3.18 0.45 0.2 0.67 0.43 1.29 7.48\n",
      " 0.28 6.75 1.78 2.5 1.99 0.16 3.69 7.15 0.87 29976.83 155.63 100.89 295.43\n",
      " 186.01 24.92 0.02 16.66 24.02 8.5 3.06 24.3 27.81 49.71 38.55 1228.74\n",
      " 596.05 184.17 11.06 1.99 0.6 2.78 1.69 0.95 0.32 0.28 1.54 0.79 0.5 0.9\n",
      " 0.41 4.39 46216.93 55.92]\n"
     ]
    }
   ],
   "source": [
    "dataset = pd.read_csv('costs.csv')\n",
    "X = dataset.iloc[1:, :-1].values\n",
    "y = dataset.iloc[1:, -1].values\n",
    "#print(X)\n",
    "#print(y)"
   ]
  },
  {
   "cell_type": "markdown",
   "id": "3b655d83",
   "metadata": {},
   "source": [
    "# Take care of the missing data"
   ]
  },
  {
   "cell_type": "code",
   "execution_count": 29,
   "id": "ccbd4ac3",
   "metadata": {},
   "outputs": [],
   "source": [
    "from sklearn.impute import SimpleImputer\n",
    "imputer = SimpleImputer(missing_values=np.nan, strategy='mean')\n",
    "imputer.fit(X[:, 2:])\n",
    "X[:,2:] = imputer.transform(X[:, 2:])"
   ]
  },
  {
   "cell_type": "markdown",
   "id": "e4b4c9f0",
   "metadata": {},
   "source": [
    "# Splitting the dataset into the Training test and Test set"
   ]
  },
  {
   "cell_type": "code",
   "execution_count": 30,
   "id": "78b45427",
   "metadata": {},
   "outputs": [],
   "source": [
    "from sklearn.model_selection import train_test_split\n",
    "X_train, X_test, y_train, y_test = train_test_split(X, y, test_size = 0.2, random_state = 1)"
   ]
  },
  {
   "cell_type": "code",
   "execution_count": 32,
   "id": "87a9187a",
   "metadata": {},
   "outputs": [
    {
     "name": "stdout",
     "output_type": "stream",
     "text": [
      "[['Chennai, India' 1.52 7.59 ... 4.17 21604.75 51.12]\n",
      " ['Buenos Aires, Argentina' 5.99 20.97 ... 4.71 16555.15 162.72]\n",
      " ['Santiago, Chile' 6.94 34.68 ... 7.67 12884.76 353.88]\n",
      " ...\n",
      " ['Seoul, South Korea' 6.42 31.11 ... 29.31 21511.36 323.08]\n",
      " ['Moscow, Russia' 8.8 36.69 ... 7.72 19737.85 523.31]\n",
      " ['Austin, TX, United States' 13.48 44.92 ... 10.6 18743.38 890.67]]\n"
     ]
    }
   ],
   "source": [
    "print(X_train)"
   ]
  },
  {
   "cell_type": "code",
   "execution_count": 33,
   "id": "e09ccc03",
   "metadata": {},
   "outputs": [
    {
     "name": "stdout",
     "output_type": "stream",
     "text": [
      "[['Ottawa, Canada' 11.0 55.0 ... 10.43 16072.54 782.15]\n",
      " ['Vancouver, Canada' 11.69 55.0 ... 12.43 16057.11 849.75]\n",
      " ['Monterrey, Mexico' 5.75 23.94 ... 6.01 14421.34 198.98]\n",
      " ...\n",
      " ['Durban, South Africa' 7.47 25.53 ... 5.72 17400.43 159.71]\n",
      " ['Reykjavik, Iceland' 17.96 109.16 ... 20.84 30138.76 245.58]\n",
      " ['Bucharest, Romania' 6.28 27.21 ... 6.88 18299.48 321.02]]\n"
     ]
    }
   ],
   "source": [
    "print(X_test)"
   ]
  },
  {
   "cell_type": "code",
   "execution_count": 34,
   "id": "3c87f233",
   "metadata": {},
   "outputs": [
    {
     "name": "stdout",
     "output_type": "stream",
     "text": [
      "[ 1470.3   3114.28  5825.36  4127.26 15972.64 21240.    2644.23 12155.\n",
      "  5345.2   3218.01  4327.18 12874.09  4721.73  2512.76  6726.13  6775.\n",
      "  3840.88  1715.91  5704.32  2033.83 34441.93  2132.54 11972.73  7549.8\n",
      "  7483.6   4428.44  5992.86 10761.9   7763.44  5318.02 17653.1   4684.61\n",
      "  2070.3   5755.87  4036.19  8746.12  1126.1   1641.    3238.83  8918.89\n",
      "  1348.77  6905.43  9237.96  5549.5   6511.18 13498.49  7840.74 24642.48\n",
      "  1914.46  8672.3  13741.17 25657.74  7353.81  7031.25  8021.9   6125.\n",
      "  3585.51  5785.11 18581.67  6000.    3668.81  6410.05  3725.87  4803.12\n",
      "  3659.83  1154.07  3407.97  3996.17 16035.71  1660.95 16387.06 16232.63\n",
      "  5303.45  5749.21  5386.28  3166.47  2190.01  8400.    2473.25  1743.81\n",
      " 16891.52  4787.5   6040.38 17051.34  1674.83  2358.66 18342.86 22470.47\n",
      "  2729.   10981.56  6840.27 19335.55  2679.3   2474.58  4753.12 11933.55\n",
      " 10610.54  7422.22  2826.61  9480.36  4568.62  4948.41  3593.18 13010.39\n",
      " 18762.48  9343.89  5657.01 11526.08 16701.41  4754.58 12507.1  12630.\n",
      "  8815.92  8078.42 19730.73  1644.93 12939.69  4031.18  6092.58  1467.45\n",
      "  3020.37 10118.75  7231.91 10102.57 16410.38 10478.53 17537.93]\n"
     ]
    }
   ],
   "source": [
    "print(y_train)"
   ]
  },
  {
   "cell_type": "code",
   "execution_count": 35,
   "id": "f24ee78c",
   "metadata": {},
   "outputs": [
    {
     "name": "stdout",
     "output_type": "stream",
     "text": [
      "[ 9040.16 14093.02  4080.55  2323.77   788.02 10418.14 10171.93  7237.44\n",
      " 12204.08  7885.   20125.06  6677.13  7943.07  1218.73  9069.26  3441.21\n",
      " 11166.67 13891.67  7666.24  5049.27  4019.43  6829.05  8060.    2781.29\n",
      "  7385.58 10142.86  3431.24  5990.32 28414.08  3425.69  6731.73  6232.03]\n"
     ]
    }
   ],
   "source": [
    "print(y_test)"
   ]
  },
  {
   "cell_type": "markdown",
   "id": "12cc4efd",
   "metadata": {},
   "source": [
    "# Feature Scaling"
   ]
  },
  {
   "cell_type": "code",
   "execution_count": 36,
   "id": "d7aca056",
   "metadata": {},
   "outputs": [],
   "source": [
    "from sklearn.preprocessing import MinMaxScaler \n",
    "sc = MinMaxScaler()\n",
    "X_train[:, 1:] = sc.fit_transform(X_train[:, 1:])\n",
    "X_test[:, 1:] = sc.fit_transform(X_test[:, 1:])"
   ]
  },
  {
   "cell_type": "code",
   "execution_count": 37,
   "id": "dd1d6cc3",
   "metadata": {},
   "outputs": [
    {
     "name": "stdout",
     "output_type": "stream",
     "text": [
      "[['Chennai, India' 0.0 0.0 ... 0.0007949125596184159 0.18584546026879706\n",
      "  0.006794502541897819]\n",
      " ['Buenos Aires, Argentina' 0.26018626309662396 0.1825624232501023 ...\n",
      "  0.022257551669316367 0.09596519560473832 0.060725262405041266]\n",
      " ['Santiago, Chile' 0.31548311990686845 0.3696275071633238 ...\n",
      "  0.1399046104928458 0.030634154607369207 0.15310343494481277]\n",
      " ...\n",
      " ['Seoul, South Korea' 0.28521536670547143 0.3209169054441261 ... 1.0\n",
      "  0.18418316663821716 0.13821931842344343]\n",
      " ['Moscow, Russia' 0.42374854481955765 0.39705280392959474 ...\n",
      "  0.14189189189189189 0.15261560719106188 0.23498057332843636]\n",
      " ['Austin, TX, United States' 0.6961583236321305 0.5093464319825352 ...\n",
      "  0.25635930047694755 0.13491455625624205 0.41250749038331425]]\n"
     ]
    }
   ],
   "source": [
    "print(X_train)"
   ]
  },
  {
   "cell_type": "code",
   "execution_count": 39,
   "id": "2d083d0c",
   "metadata": {},
   "outputs": [
    {
     "name": "stdout",
     "output_type": "stream",
     "text": [
      "[['Ottawa, Canada' 0.43966712898751725 0.4600199401794617 ...\n",
      "  0.14051578693661126 0.13060915175935772 0.3428322849592437]\n",
      " ['Vancouver, Canada' 0.47156726768377244 0.4600199401794617 ...\n",
      "  0.1887201735357918 0.12989745690164134 0.37428350764878854]\n",
      " ['Monterrey, Mexico' 0.19694868238557556 0.15034895314057828 ...\n",
      "  0.03398409255242228 0.054449038404770334 0.07150965868909814]\n",
      " ...\n",
      " ['Durban, South Africa' 0.27646786870087836 0.16620139581256232 ...\n",
      "  0.026994456495541094 0.1918568824536545 0.053239103733204306]\n",
      " ['Reykjavik, Iceland' 0.7614424410540915 0.9999999999999999 ...\n",
      "  0.3914196191853459 0.7794008848447279 0.09319053113484946]\n",
      " ['Bucharest, Romania' 0.22145168747110494 0.18295114656031908 ...\n",
      "  0.05495300072306579 0.23332475425079702 0.1282893512487438]]\n"
     ]
    }
   ],
   "source": [
    "print(X_test)"
   ]
  },
  {
   "cell_type": "code",
   "execution_count": null,
   "id": "9006830c",
   "metadata": {},
   "outputs": [],
   "source": []
  }
 ],
 "metadata": {
  "kernelspec": {
   "display_name": "Python 3",
   "language": "python",
   "name": "python3"
  },
  "language_info": {
   "codemirror_mode": {
    "name": "ipython",
    "version": 3
   },
   "file_extension": ".py",
   "mimetype": "text/x-python",
   "name": "python",
   "nbconvert_exporter": "python",
   "pygments_lexer": "ipython3",
   "version": "3.8.8"
  }
 },
 "nbformat": 4,
 "nbformat_minor": 5
}
